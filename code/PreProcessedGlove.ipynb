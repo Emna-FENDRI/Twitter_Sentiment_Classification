{
 "cells": [
  {
   "cell_type": "code",
   "execution_count": null,
   "id": "469cdfe1-4ea1-4083-b25f-f9685737b9d6",
   "metadata": {},
   "outputs": [],
   "source": [
    "import numpy as np\n",
    "from helper import *\n",
    "from cleaning import clean_tweet\n",
    "import nltk"
   ]
  },
  {
   "cell_type": "code",
   "execution_count": null,
   "id": "41cb46ea-7024-45ac-bf3a-3737eeb04ecb",
   "metadata": {},
   "outputs": [],
   "source": [
    "nltk.download('stopwords')\n",
    "nltk.download('punkt')\n",
    "nltk.download('wordnet')"
   ]
  },
  {
   "cell_type": "code",
   "execution_count": 3,
   "id": "72a5b4b0-5cfa-4bf7-9509-d41f69296627",
   "metadata": {},
   "outputs": [
    {
     "name": "stdout",
     "output_type": "stream",
     "text": [
      "Indexing word vectors.\n",
      "Found 1193515 word vectors.\n"
     ]
    }
   ],
   "source": [
    "print('Indexing word vectors.')\n",
    "\n",
    "embeddings_index = {}\n",
    "DIM_SIZE = 25\n",
    "f = open('../Data/glove.twitter.27B.25d.txt', encoding='utf-8')\n",
    "for line in f:\n",
    "    values = line.split()\n",
    "    word = values[0]\n",
    "    coefs = np.asarray(values[1:], dtype='float32')\n",
    "    embeddings_index[word] = coefs\n",
    "f.close()\n",
    "\n",
    "print('Found %s word vectors.' % len(embeddings_index))"
   ]
  },
  {
   "cell_type": "code",
   "execution_count": 52,
   "id": "3e70115b-7b56-48ad-b10b-cf74526cd39e",
   "metadata": {},
   "outputs": [],
   "source": [
    "pos_train , neg_train = load_data()"
   ]
  },
  {
   "cell_type": "code",
   "execution_count": 53,
   "id": "264ce9d5-a1e0-4d48-b5d5-c04f300fe2fb",
   "metadata": {},
   "outputs": [
    {
     "data": {
      "text/plain": [
       "97889"
      ]
     },
     "execution_count": 53,
     "metadata": {},
     "output_type": "execute_result"
    }
   ],
   "source": [
    "len(pos_train.Text)"
   ]
  },
  {
   "cell_type": "code",
   "execution_count": 54,
   "id": "8c9afdac-5606-415d-8b53-7acd587e21dd",
   "metadata": {},
   "outputs": [
    {
     "data": {
      "text/plain": [
       "'ah'"
      ]
     },
     "execution_count": 54,
     "metadata": {},
     "output_type": "execute_result"
    }
   ],
   "source": [
    "clean_tweet(\"ah\")"
   ]
  },
  {
   "cell_type": "code",
   "execution_count": 55,
   "id": "ab11a326-1eda-4fe7-8153-e3097fee21fd",
   "metadata": {},
   "outputs": [],
   "source": [
    "def Tweet_to_GloVe(tweet):\n",
    "    cleaned_tweet = clean_tweet(tweet) \n",
    "    tweet_list = cleaned_tweet.split()\n",
    "    tweet_list_filtered =  list(set(tweet_list) & set(embeddings_index.keys()))  #remove words not in embedding \n",
    "    list_of_embeddings = np.array([embeddings_index[word] for word in tweet_list_filtered],dtype='float32')\n",
    "    return np.mean(list_of_embeddings, axis = 0)"
   ]
  },
  {
   "cell_type": "code",
   "execution_count": 56,
   "id": "1f128088-c098-4b80-977b-526f6916db85",
   "metadata": {},
   "outputs": [
    {
     "data": {
      "text/plain": [
       "array([ 0.43480918,  0.58307546,  0.0421031 , -0.0365528 , -0.24439183,\n",
       "       -0.57389265,  1.2316928 ,  0.5250021 , -0.5268    ,  0.03623318,\n",
       "       -0.42029274,  0.10034092, -3.9297547 , -0.3755418 , -0.26148337,\n",
       "        0.24946953,  0.03143083, -0.5478605 , -0.34317997, -0.34596437,\n",
       "        0.16184999, -0.18437268, -0.28717262,  0.61893445, -0.6549    ],\n",
       "      dtype=float32)"
      ]
     },
     "execution_count": 56,
     "metadata": {},
     "output_type": "execute_result"
    }
   ],
   "source": [
    "Tweet_to_GloVe(pos_train.Text[0])"
   ]
  },
  {
   "cell_type": "code",
   "execution_count": null,
   "id": "6361b1f7-2f11-4445-867a-8885cf375070",
   "metadata": {},
   "outputs": [],
   "source": [
    "x = np.zeros((len(pos_train.Text), DIM_SIZE))\n",
    "i = 0\n",
    "for  tweet in pos_train.Text:\n",
    "    x[i] = Tweet_to_GloVe(tweet)\n",
    "    i += 1"
   ]
  },
  {
   "cell_type": "code",
   "execution_count": null,
   "id": "3bf25770-05a8-447f-bf05-c9d90f4d206d",
   "metadata": {},
   "outputs": [],
   "source": [
    "DIM_SIZE = 25"
   ]
  },
  {
   "cell_type": "code",
   "execution_count": null,
   "id": "ca8cd2c6-831f-4aae-916c-e7b82a7484a5",
   "metadata": {},
   "outputs": [],
   "source": []
  }
 ],
 "metadata": {
  "kernelspec": {
   "display_name": "Python 3 (ipykernel)",
   "language": "python",
   "name": "python3"
  },
  "language_info": {
   "codemirror_mode": {
    "name": "ipython",
    "version": 3
   },
   "file_extension": ".py",
   "mimetype": "text/x-python",
   "name": "python",
   "nbconvert_exporter": "python",
   "pygments_lexer": "ipython3",
   "version": "3.9.7"
  }
 },
 "nbformat": 4,
 "nbformat_minor": 5
}
