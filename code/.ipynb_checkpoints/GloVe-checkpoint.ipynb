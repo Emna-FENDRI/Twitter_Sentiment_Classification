{
 "cells": [
  {
   "cell_type": "code",
   "execution_count": 1,
   "id": "0c959a88-31cc-47d8-a676-f8e221a6f976",
   "metadata": {},
   "outputs": [
    {
     "name": "stdout",
     "output_type": "stream",
     "text": [
      "Reading twitter - 1grams ...\n",
      "Reading twitter - 2grams ...\n"
     ]
    },
    {
     "name": "stderr",
     "output_type": "stream",
     "text": [
      "C:\\Users\\ahmed\\anaconda3\\lib\\site-packages\\ekphrasis\\classes\\exmanager.py:14: FutureWarning: Possible nested set at position 42\n",
      "  regexes = {k.lower(): re.compile(self.expressions[k]) for k, v in\n"
     ]
    }
   ],
   "source": [
    "import numpy as np\n",
    "from helper import *\n",
    "from cleaning import clean_tweet\n",
    "import nltk\n",
    "from scipy.sparse import *\n",
    "import pickle\n",
    "import random"
   ]
  },
  {
   "cell_type": "code",
   "execution_count": 2,
   "id": "ea819b06-bee5-436f-9c27-0a2ea57c4152",
   "metadata": {},
   "outputs": [
    {
     "name": "stdout",
     "output_type": "stream",
     "text": [
      "loading cooccurrence matrix\n",
      "8583463 nonzero entries\n",
      "using nmax = 100 , cooc.max() = 207302\n"
     ]
    }
   ],
   "source": [
    "print(\"loading cooccurrence matrix\")\n",
    "with open('../Data/cooc.pkl', 'rb') as f:\n",
    "    cooc = pickle.load(f)\n",
    "print(\"{} nonzero entries\".format(cooc.nnz))\n",
    "\n",
    "nmax = 100\n",
    "print(\"using nmax =\", nmax, \", cooc.max() =\", cooc.max())"
   ]
  },
  {
   "cell_type": "code",
   "execution_count": 3,
   "id": "9b0d25b9-20c7-46bc-bde5-646fcaecd457",
   "metadata": {},
   "outputs": [
    {
     "name": "stdout",
     "output_type": "stream",
     "text": [
      "initializing embeddings\n",
      "epoch 0\n",
      "epoch 1\n",
      "epoch 2\n",
      "epoch 3\n",
      "epoch 4\n",
      "epoch 5\n",
      "epoch 6\n",
      "epoch 7\n",
      "epoch 8\n",
      "epoch 9\n",
      "epoch 10\n",
      "epoch 11\n",
      "epoch 12\n",
      "epoch 13\n",
      "epoch 14\n",
      "epoch 15\n",
      "epoch 16\n",
      "epoch 17\n",
      "epoch 18\n",
      "epoch 19\n",
      "epoch 20\n",
      "epoch 21\n",
      "epoch 22\n",
      "epoch 23\n",
      "epoch 24\n",
      "epoch 25\n",
      "epoch 26\n",
      "epoch 27\n",
      "epoch 28\n",
      "epoch 29\n",
      "epoch 30\n",
      "epoch 31\n",
      "epoch 32\n",
      "epoch 33\n",
      "epoch 34\n",
      "epoch 35\n",
      "epoch 36\n",
      "epoch 37\n",
      "epoch 38\n",
      "epoch 39\n",
      "epoch 40\n",
      "epoch 41\n",
      "epoch 42\n",
      "epoch 43\n",
      "epoch 44\n",
      "epoch 45\n",
      "epoch 46\n",
      "epoch 47\n",
      "epoch 48\n",
      "epoch 49\n"
     ]
    }
   ],
   "source": [
    "print(\"initializing embeddings\")\n",
    "embedding_dim = 200\n",
    "epochs = 50\n",
    "xs = np.random.normal(size=(cooc.shape[0], embedding_dim))\n",
    "ys = np.random.normal(size=(cooc.shape[1], embedding_dim))\n",
    "nmax = 100\n",
    "eta = 0.001\n",
    "alpha = 3 / 4\n",
    "\n",
    "\n",
    "for epoch in range(epochs):\n",
    "    print(\"epoch {}\".format(epoch))\n",
    "    for ix, jy, n in zip(cooc.row, cooc.col, cooc.data):\n",
    "        logn = np.log(n)\n",
    "        fn = min(1.0, (n / nmax) ** alpha)\n",
    "        x, y = xs[ix, :], ys[jy, :]\n",
    "        scale = 2 * eta * fn * (logn - np.dot(x, y))\n",
    "        xs[ix, :] += scale * y\n",
    "        ys[jy, :] += scale * x\n",
    "np.save('../Data/embeddings', xs)"
   ]
  },
  {
   "cell_type": "code",
   "execution_count": 4,
   "id": "20df67bf-9e44-40ec-9682-1f9e73c1f369",
   "metadata": {},
   "outputs": [],
   "source": [
    "embeddings_index = {}\n",
    "vocab_file = open('../Data/vocab_cut.txt', 'r')\n",
    "for i, line in enumerate(vocab_file):\n",
    "        embeddings_index[line.rstrip()] = xs[i]\n",
    "with open('../Data/embeddings_index.pkl', 'wb') as f:\n",
    "    pickle.dump(embeddings_index, f)"
   ]
  }
 ],
 "metadata": {
  "kernelspec": {
   "display_name": "Python 3 (ipykernel)",
   "language": "python",
   "name": "python3"
  },
  "language_info": {
   "codemirror_mode": {
    "name": "ipython",
    "version": 3
   },
   "file_extension": ".py",
   "mimetype": "text/x-python",
   "name": "python",
   "nbconvert_exporter": "python",
   "pygments_lexer": "ipython3",
   "version": "3.9.7"
  }
 },
 "nbformat": 4,
 "nbformat_minor": 5
}
