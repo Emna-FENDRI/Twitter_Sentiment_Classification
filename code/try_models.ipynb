{
 "cells": [
  {
   "cell_type": "code",
   "execution_count": 1,
   "metadata": {},
   "outputs": [
    {
     "name": "stdout",
     "output_type": "stream",
     "text": [
      "Reading twitter - 1grams ...\n",
      "Reading twitter - 2grams ...\n"
     ]
    },
    {
     "name": "stderr",
     "output_type": "stream",
     "text": [
      "C:\\Users\\ahmed\\anaconda3\\lib\\site-packages\\ekphrasis\\classes\\exmanager.py:14: FutureWarning: Possible nested set at position 42\n",
      "  regexes = {k.lower(): re.compile(self.expressions[k]) for k, v in\n"
     ]
    }
   ],
   "source": [
    "import pandas as pd\n",
    "from time import time\n",
    "from helper import *\n",
    "from models import *\n",
    "from cleaning import *\n",
    "from tqdm.notebook import tqdm_notebook"
   ]
  },
  {
   "cell_type": "code",
   "execution_count": 2,
   "metadata": {},
   "outputs": [
    {
     "name": "stdout",
     "output_type": "stream",
     "text": [
      "Train_set Info: SIZE= 1966637, POSITIVE Tweets =49.57%, NEGATIVE Tweets = 50.43%\n",
      "Test_set Info: SIZE= 491660, POSITIVE Tweets =49.58%, NEGATIVE Tweets = 50.42%\n",
      "1218655\n"
     ]
    }
   ],
   "source": [
    "pos_train , neg_train = load_data(full = True)\n",
    "pos_train = pos_train\n",
    "neg_train = neg_train\n",
    "X_train, X_test, y_train, y_test = split_data(pos_train, neg_train) #return pandas series\n",
    "print(len(pos_train))"
   ]
  },
  {
   "cell_type": "code",
   "execution_count": 3,
   "metadata": {},
   "outputs": [
    {
     "name": "stdout",
     "output_type": "stream",
     "text": [
      "Records of positive tweets left 1098912\n",
      "Records of negative tweets left 1133246\n",
      "Wall time: 829 ms\n"
     ]
    }
   ],
   "source": [
    "%%time\n",
    "\n",
    "#Drop Duplicates\n",
    "pos_train.drop_duplicates(inplace=True)\n",
    "neg_train.drop_duplicates(inplace=True)\n",
    "print('Records of positive tweets left', len(pos_train))\n",
    "print('Records of negative tweets left', len(neg_train))"
   ]
  },
  {
   "cell_type": "code",
   "execution_count": 4,
   "metadata": {},
   "outputs": [
    {
     "name": "stdout",
     "output_type": "stream",
     "text": [
      "Wall time: 13min 22s\n"
     ]
    }
   ],
   "source": [
    "%%time\n",
    "# CELL : avec SVM clean + Train = 15min pour 80.000 train set \n",
    "#clean  \n",
    "X_train_clean= X_train.apply(clean_tweet)\n",
    "X_test_clean = X_test.apply(clean_tweet)"
   ]
  },
  {
   "cell_type": "code",
   "execution_count": null,
   "metadata": {
    "tags": []
   },
   "outputs": [],
   "source": []
  },
  {
   "cell_type": "code",
   "execution_count": null,
   "metadata": {
    "tags": []
   },
   "outputs": [
    {
     "data": {
      "application/vnd.jupyter.widget-view+json": {
       "model_id": "a2ddf13e66ee49ce8e012e4407836240",
       "version_major": 2,
       "version_minor": 0
      },
      "text/plain": [
       "  0%|          | 0/1966637 [00:00<?, ?it/s]"
      ]
     },
     "metadata": {},
     "output_type": "display_data"
    },
    {
     "name": "stderr",
     "output_type": "stream",
     "text": [
      "C:\\Users\\ahmed\\anaconda3\\lib\\site-packages\\numpy\\core\\fromnumeric.py:3419: RuntimeWarning: Mean of empty slice.\n",
      "  return _methods._mean(a, axis=axis, dtype=dtype,\n",
      "C:\\Users\\ahmed\\anaconda3\\lib\\site-packages\\numpy\\core\\_methods.py:188: RuntimeWarning: invalid value encountered in double_scalars\n",
      "  ret = ret.dtype.type(ret / rcount)\n"
     ]
    },
    {
     "data": {
      "application/vnd.jupyter.widget-view+json": {
       "model_id": "70ddb4506d88413f835f43505f2fbdda",
       "version_major": 2,
       "version_minor": 0
      },
      "text/plain": [
       "  0%|          | 0/491660 [00:00<?, ?it/s]"
      ]
     },
     "metadata": {},
     "output_type": "display_data"
    },
    {
     "name": "stdout",
     "output_type": "stream",
     "text": [
      "finished embedding\n"
     ]
    }
   ],
   "source": [
    "%%time\n",
    "#train\n",
    "\n",
    "SVM_Glove(X_train_clean.tolist(), X_test_clean.tolist(), y_train, y_test, 25, preprocessed = True)\n",
    "#SVM_Glove(X_train_clean.tolist(), X_test_clean.tolist(), y_train, y_test, 200) 71% with 80000\n",
    "#logistic_regression_TFIDF(X_train_clean, X_test_clean, y_train, y_test, display_evaluation = True,max_features= 30000 , ngram_range=(1,2))\n",
    "#SVM_TFIDF(X_train_clean, X_test_clean, y_train, y_test, max_features = 40000, ngram_range=(1,2) , display_evaluation = False)\n",
    "#naive_bayes_count(X_train_clean, X_test_clean, y_train, y_test, max_features = 10000 , ngram_range =(1,2) , display_evaluation= True)\n"
   ]
  },
  {
   "cell_type": "code",
   "execution_count": null,
   "metadata": {},
   "outputs": [],
   "source": []
  },
  {
   "cell_type": "code",
   "execution_count": null,
   "metadata": {
    "tags": []
   },
   "outputs": [],
   "source": []
  }
 ],
 "metadata": {
  "kernelspec": {
   "display_name": "Python 3 (ipykernel)",
   "language": "python",
   "name": "python3"
  },
  "language_info": {
   "codemirror_mode": {
    "name": "ipython",
    "version": 3
   },
   "file_extension": ".py",
   "mimetype": "text/x-python",
   "name": "python",
   "nbconvert_exporter": "python",
   "pygments_lexer": "ipython3",
   "version": "3.9.7"
  }
 },
 "nbformat": 4,
 "nbformat_minor": 4
}
