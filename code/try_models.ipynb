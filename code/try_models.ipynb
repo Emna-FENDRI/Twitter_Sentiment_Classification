{
 "cells": [
  {
   "cell_type": "code",
   "execution_count": 1,
   "metadata": {},
   "outputs": [
    {
     "name": "stdout",
     "output_type": "stream",
     "text": [
      "Reading twitter - 1grams ...\n",
      "Reading twitter - 2grams ...\n"
     ]
    },
    {
     "name": "stderr",
     "output_type": "stream",
     "text": [
      "C:\\Users\\ahmed\\anaconda3\\lib\\site-packages\\ekphrasis\\classes\\exmanager.py:14: FutureWarning: Possible nested set at position 42\n",
      "  regexes = {k.lower(): re.compile(self.expressions[k]) for k, v in\n"
     ]
    }
   ],
   "source": [
    "import pandas as pd\n",
    "from time import time\n",
    "from helper import *\n",
    "from models import *\n",
    "from cleaning import *"
   ]
  },
  {
   "cell_type": "code",
   "execution_count": 2,
   "metadata": {},
   "outputs": [
    {
     "name": "stdout",
     "output_type": "stream",
     "text": [
      "Train_set Info: SIZE= 128000, POSITIVE Tweets =50.03%, NEGATIVE Tweets = 49.97%\n",
      "Test_set Info: SIZE= 32000, POSITIVE Tweets =49.88%, NEGATIVE Tweets = 50.12%\n"
     ]
    }
   ],
   "source": [
    "pos_train , neg_train = load_data(full = True)\n",
    "pos_train = pos_train.iloc[:80000]\n",
    "neg_train = neg_train.iloc[:80000]\n",
    "X_train, X_test, y_train, y_test = split_data(pos_train, neg_train) #return pandas series"
   ]
  },
  {
   "cell_type": "code",
   "execution_count": 3,
   "metadata": {},
   "outputs": [
    {
     "name": "stdout",
     "output_type": "stream",
     "text": [
      "Records of positive tweets left 71611\n",
      "Records of negative tweets left 72784\n",
      "Wall time: 87 ms\n"
     ]
    }
   ],
   "source": [
    "%%time\n",
    "\n",
    "#Drop Duplicates\n",
    "pos_train.drop_duplicates(inplace=True)\n",
    "neg_train.drop_duplicates(inplace=True)\n",
    "print('Records of positive tweets left', len(pos_train))\n",
    "print('Records of negative tweets left', len(neg_train))"
   ]
  },
  {
   "cell_type": "code",
   "execution_count": 4,
   "metadata": {},
   "outputs": [
    {
     "name": "stdout",
     "output_type": "stream",
     "text": [
      "Wall time: 1min\n"
     ]
    }
   ],
   "source": [
    "%%time\n",
    "# CELL : avec SVM clean + Train = 15min pour 80.000 train set \n",
    "#clean  \n",
    "X_train_clean= X_train.apply(clean_tweet)\n",
    "X_test_clean = X_test.apply(clean_tweet)"
   ]
  },
  {
   "cell_type": "code",
   "execution_count": null,
   "metadata": {},
   "outputs": [],
   "source": []
  },
  {
   "cell_type": "code",
   "execution_count": null,
   "metadata": {},
   "outputs": [],
   "source": []
  },
  {
   "cell_type": "code",
   "execution_count": 5,
   "metadata": {},
   "outputs": [
    {
     "name": "stderr",
     "output_type": "stream",
     "text": [
      "C:\\Users\\ahmed\\anaconda3\\lib\\site-packages\\numpy\\core\\fromnumeric.py:3419: RuntimeWarning: Mean of empty slice.\n",
      "  return _methods._mean(a, axis=axis, dtype=dtype,\n",
      "C:\\Users\\ahmed\\anaconda3\\lib\\site-packages\\numpy\\core\\_methods.py:188: RuntimeWarning: invalid value encountered in double_scalars\n",
      "  ret = ret.dtype.type(ret / rcount)\n"
     ]
    },
    {
     "name": "stdout",
     "output_type": "stream",
     "text": [
      "SVM MODEL with TFIDF transformation \n",
      "with 200 features selected \n",
      " \n",
      "Accuracy:\n",
      " 0.71\n",
      "              precision    recall  f1-score   support\n",
      "\n",
      "          -1       0.81      0.56      0.66     16039\n",
      "           1       0.66      0.87      0.75     15961\n",
      "\n",
      "    accuracy                           0.71     32000\n",
      "   macro avg       0.74      0.71      0.71     32000\n",
      "weighted avg       0.74      0.71      0.71     32000\n",
      "\n",
      "Wall time: 1h 17min 32s\n"
     ]
    }
   ],
   "source": [
    "%%time\n",
    "#train\n",
    "\n",
    "SVM_Glove(X_train_clean.tolist(), X_test_clean.tolist(), y_train, y_test, 200)\n",
    "#logistic_regression_TFIDF(X_train_clean, X_test_clean, y_train, y_test, display_evaluation = True,max_features= 30000 , ngram_range=(1,2))\n",
    "#SVM_TFIDF(X_train_clean, X_test_clean, y_train, y_test, max_features = 40000, ngram_range=(1,2) , display_evaluation = False)\n",
    "#naive_bayes_count(X_train_clean, X_test_clean, y_train, y_test, max_features = 10000 , ngram_range =(1,2) , display_evaluation= True)\n"
   ]
  },
  {
   "cell_type": "code",
   "execution_count": null,
   "metadata": {},
   "outputs": [],
   "source": []
  }
 ],
 "metadata": {
  "kernelspec": {
   "display_name": "Python 3 (ipykernel)",
   "language": "python",
   "name": "python3"
  },
  "language_info": {
   "codemirror_mode": {
    "name": "ipython",
    "version": 3
   },
   "file_extension": ".py",
   "mimetype": "text/x-python",
   "name": "python",
   "nbconvert_exporter": "python",
   "pygments_lexer": "ipython3",
   "version": "3.9.7"
  }
 },
 "nbformat": 4,
 "nbformat_minor": 4
}
