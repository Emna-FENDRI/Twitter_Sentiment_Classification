{
 "cells": [
  {
   "cell_type": "code",
   "execution_count": 2,
   "metadata": {
    "id": "vm3uGwX0L2Xy"
   },
   "outputs": [],
   "source": [
    "import numpy as np\n",
    "import torch.nn as nn\n",
    "import torch.nn.functional as F\n",
    "import torch.optim as optim\n",
    "import torch\n",
    "from tqdm import tqdm"
   ]
  },
  {
   "cell_type": "code",
   "execution_count": 3,
   "metadata": {
    "colab": {
     "base_uri": "https://localhost:8080/"
    },
    "id": "euM3i5E29dAW",
    "outputId": "20110b7f-e30f-4f3a-bff0-424b8388eabd"
   },
   "outputs": [
    {
     "name": "stdout",
     "output_type": "stream",
     "text": [
      "running on the CPU\n"
     ]
    }
   ],
   "source": [
    "if torch.cuda.is_available():\n",
    "    device = torch.device(\"cuda:0\")\n",
    "    print(\"running on the GPU\")\n",
    "else:\n",
    "    device = torch.device(\"cpu\")\n",
    "    print(\"running on the CPU\")"
   ]
  },
  {
   "cell_type": "code",
   "execution_count": 4,
   "metadata": {
    "id": "vM0Me4wBnCgl"
   },
   "outputs": [],
   "source": [
    "training_data = np.load(\"training_data.npy\", allow_pickle=True)"
   ]
  },
  {
   "cell_type": "code",
   "execution_count": 5,
   "metadata": {
    "id": "GcIe_x8Lngwr"
   },
   "outputs": [],
   "source": [
    "class Net(nn.Module):\n",
    "    def __init__(self):\n",
    "        super().__init__()\n",
    "        self.fc1 = nn.Linear(300, 256)\n",
    "        self.fc2 = nn.Linear(256, 256)\n",
    "        self.fc3 = nn.Linear(256, 256)\n",
    "        self.fc4 = nn.Linear(256, 2)\n",
    "        \n",
    "    def forward(self, x):\n",
    "        x = F.relu(self.fc1(x))\n",
    "        x = F.relu(self.fc2(x))\n",
    "        x = F.relu(self.fc3(x))\n",
    "        x = self.fc4(x)\n",
    "        return F.softmax(x, dim=1)"
   ]
  },
  {
   "cell_type": "code",
   "execution_count": 6,
   "metadata": {
    "id": "S3C8f7lRod6p"
   },
   "outputs": [],
   "source": [
    "tr_size = round(len(training_data)*0.8)\n",
    "tr_set = training_data[:tr_size]\n",
    "te_set = training_data[tr_size:]"
   ]
  },
  {
   "cell_type": "code",
   "execution_count": 7,
   "metadata": {
    "colab": {
     "base_uri": "https://localhost:8080/"
    },
    "id": "3qMXjN0Co6rS",
    "outputId": "00e8f857-2f56-462b-ca58-91d1ba182d40"
   },
   "outputs": [
    {
     "name": "stdout",
     "output_type": "stream",
     "text": [
      "Net(\n",
      "  (fc1): Linear(in_features=300, out_features=256, bias=True)\n",
      "  (fc2): Linear(in_features=256, out_features=256, bias=True)\n",
      "  (fc3): Linear(in_features=256, out_features=256, bias=True)\n",
      "  (fc4): Linear(in_features=256, out_features=2, bias=True)\n",
      ")\n"
     ]
    }
   ],
   "source": [
    "net = Net().to(device)\n",
    "print(net)"
   ]
  },
  {
   "cell_type": "code",
   "execution_count": 10,
   "metadata": {},
   "outputs": [],
   "source": [
    "def test(net):\n",
    "    correct = 0\n",
    "    total = 0\n",
    "    with torch.no_grad():\n",
    "        for i in tqdm(range(0, len(te_set), BATCH_SIZE)):\n",
    "            batch_X = [x for x, y_ in te_set[i:i+BATCH_SIZE]]\n",
    "            batch_y = [y_ for x, y_ in te_set[i:i+BATCH_SIZE]]\n",
    "\n",
    "            tensor_batch_X = torch.tensor(batch_X).float().view(-1, 300).to(device)\n",
    "            tensor_batch_y = torch.tensor(batch_y).float().to(device)\n",
    "            batch_out = net(tensor_batch_X)\n",
    "\n",
    "            out_maxes = [torch.argmax(val) for val in batch_out]\n",
    "            target_maxes = [torch.argmax(val) for val in tensor_batch_y]\n",
    "            \n",
    "            for i, j in zip(out_maxes, target_maxes):\n",
    "                if i == j:\n",
    "                    correct +=1\n",
    "                total += 1\n",
    "    return round(correct/total, 3)"
   ]
  },
  {
   "cell_type": "code",
   "execution_count": 21,
   "metadata": {
    "id": "3JAlG4P_o3lR"
   },
   "outputs": [],
   "source": [
    "BATCH_SIZE = 100\n",
    "def train(net):\n",
    "    EPOCHS = 15\n",
    "    loss_function = nn.MSELoss()\n",
    "    optimizer = optim.Adam(net.parameters(), lr=0.001)\n",
    "    loss = 1000000000\n",
    "    test_accuracy_at_each_epoch = []\n",
    "    for epoch in range(EPOCHS):\n",
    "        for i in tqdm(range(0, len(tr_set), BATCH_SIZE)):\n",
    "            batch_X = [x for x, y_ in tr_set[i:i+BATCH_SIZE]]\n",
    "            batch_y = [y_ for x, y_ in tr_set[i:i+BATCH_SIZE]]\n",
    "\n",
    "            tensor_batch_X = torch.tensor(batch_X).float()\n",
    "            tensor_batch_y = torch.tensor(batch_y).float()\n",
    "\n",
    "            tensor_batch_X, tensor_batch_y = tensor_batch_X.to(device), tensor_batch_y.to(device)\n",
    "\n",
    "            net.zero_grad()\n",
    "\n",
    "            output = net(tensor_batch_X.view(-1, 300))\n",
    "            loss = loss_function(output, tensor_batch_y)\n",
    "            loss.backward()\n",
    "            optimizer.step()\n",
    "      \n",
    "        accuracy = test(net)\n",
    "        test_accuracy_at_each_epoch.append(accuracy)\n",
    "        print(f\"\\nLoss: {loss}\")\n",
    "        print(f\"\\nAccuracy: {accuracy}\")\n",
    "    return test_accuracy_at_each_epoch"
   ]
  },
  {
   "cell_type": "code",
   "execution_count": null,
   "metadata": {
    "colab": {
     "base_uri": "https://localhost:8080/"
    },
    "id": "Hzo4TRdS5F79",
    "outputId": "356cacdc-55d8-41f1-ed70-44ce846aca87"
   },
   "outputs": [
    {
     "name": "stderr",
     "output_type": "stream",
     "text": [
      " 11%|████                                 | 1985/18164 [00:18<02:35, 104.28it/s]"
     ]
    }
   ],
   "source": [
    "test_accuracy_epoch = train(net)"
   ]
  },
  {
   "cell_type": "code",
   "execution_count": null,
   "metadata": {
    "id": "3nM_CIrlZ80F"
   },
   "outputs": [],
   "source": [
    "print(test_accuracy_epoch)"
   ]
  },
  {
   "cell_type": "code",
   "execution_count": null,
   "metadata": {
    "id": "Gq8yhUvME-Qx"
   },
   "outputs": [],
   "source": [
    "import matplotlib.pyplot as plt"
   ]
  },
  {
   "cell_type": "code",
   "execution_count": null,
   "metadata": {
    "id": "0D8Avkufaltk"
   },
   "outputs": [],
   "source": [
    "plt.plot(list(range(1,30*8+1)), test_accuracy_epoch)\n",
    "plt.show()"
   ]
  },
  {
   "cell_type": "code",
   "execution_count": null,
   "metadata": {
    "id": "GOLmQcNwd301"
   },
   "outputs": [],
   "source": [
    "torch.save(net.state_dict(), \"nn_dict\")\n",
    "torch.save(net, \"nn_object\")"
   ]
  },
  {
   "cell_type": "code",
   "execution_count": null,
   "metadata": {},
   "outputs": [],
   "source": []
  }
 ],
 "metadata": {
  "accelerator": "GPU",
  "colab": {
   "collapsed_sections": [],
   "name": "Basic NN",
   "provenance": []
  },
  "kernelspec": {
   "display_name": "Python 3 (ipykernel)",
   "language": "python",
   "name": "python3"
  },
  "language_info": {
   "codemirror_mode": {
    "name": "ipython",
    "version": 3
   },
   "file_extension": ".py",
   "mimetype": "text/x-python",
   "name": "python",
   "nbconvert_exporter": "python",
   "pygments_lexer": "ipython3",
   "version": "3.9.7"
  }
 },
 "nbformat": 4,
 "nbformat_minor": 4
}
