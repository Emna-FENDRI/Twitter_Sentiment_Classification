{
 "cells": [
  {
   "cell_type": "code",
   "execution_count": 1,
   "id": "ff6262a0",
   "metadata": {},
   "outputs": [
    {
     "name": "stdout",
     "output_type": "stream",
     "text": [
      "Reading twitter - 1grams ...\n",
      "Reading twitter - 2grams ...\n"
     ]
    },
    {
     "name": "stderr",
     "output_type": "stream",
     "text": [
      "C:\\Users\\ahmed\\anaconda3\\lib\\site-packages\\ekphrasis\\classes\\exmanager.py:14: FutureWarning: Possible nested set at position 42\n",
      "  regexes = {k.lower(): re.compile(self.expressions[k]) for k, v in\n",
      "C:\\Users\\ahmed\\anaconda3\\lib\\site-packages\\ekphrasis\\classes\\tokenizer.py:225: FutureWarning: Possible nested set at position 2190\n",
      "  self.tok = re.compile(r\"({})\".format(\"|\".join(pipeline)))\n"
     ]
    },
    {
     "name": "stdout",
     "output_type": "stream",
     "text": [
      "Reading twitter - 1grams ...\n",
      "Reading twitter - 2grams ...\n",
      "Reading twitter - 1grams ...\n"
     ]
    }
   ],
   "source": [
    "from time import time\n",
    "import tensorflow as tf\n",
    "from helper import *\n",
    "from models import *\n",
    "from cleaning import *\n",
    "from embedding import *\n",
    "from nn_models import *\n",
    "import torch.nn as nn\n",
    "import torch.nn.functional as F\n",
    "import torch.optim as optim\n",
    "import torch"
   ]
  },
  {
   "cell_type": "code",
   "execution_count": 2,
   "id": "6824aed8",
   "metadata": {},
   "outputs": [],
   "source": [
    "simple_nn = keras.models.load_model(\"simple_nn\")\n",
    "cnn = keras.models.load_model(\"CNN\")\n",
    "multi_cnn = keras.models.load_model(\"multi_cnn_glove_trained\")"
   ]
  },
  {
   "cell_type": "code",
   "execution_count": 3,
   "id": "a40dc22d",
   "metadata": {},
   "outputs": [],
   "source": [
    "#load clean data \n",
    "with open('clean_pos_train_with_stopWords.txt',\"r\",encoding = \"utf8\") as file:\n",
    "    pos = file.read().split('\\n')\n",
    "pos = pd.DataFrame({'tweet' : pos})[:len(pos)-1]\n",
    "\n",
    "with open('clean_neg_train_with_stopWords.txt',\"r\",encoding = \"utf8\") as file:\n",
    "    neg = file.read().split('\\n')\n",
    "neg = pd.DataFrame({'tweet' : neg})[:len(neg)-1]\n",
    "\n",
    "pos['target'] = 1\n",
    "neg['target'] = 0\n",
    "\n",
    "#concat pos and neg to form full training set\n",
    "train= pd.concat([pos, neg])\n",
    "X_train = train.tweet\n",
    "y_train = train.target"
   ]
  },
  {
   "cell_type": "code",
   "execution_count": 4,
   "id": "edc51baa",
   "metadata": {},
   "outputs": [],
   "source": [
    "with open('clean_test_with_stopWords.txt',\"r\") as file:\n",
    "    X_test = file.read().split('\\n')\n",
    "X_test = pd.DataFrame({'tweet' : X_test})[:len(X_test)-1]"
   ]
  },
  {
   "cell_type": "code",
   "execution_count": 5,
   "id": "a5751f4e",
   "metadata": {},
   "outputs": [],
   "source": [
    "X_train_tok,X_test_tok,word_dict , vocab_size = data_tokenizer(X_train,X_test.tweet)"
   ]
  },
  {
   "cell_type": "code",
   "execution_count": null,
   "id": "d89260a5",
   "metadata": {},
   "outputs": [],
   "source": [
    "y_pred_simple_nn = simple_nn.predict(X_test_tok)\n",
    "y_pred_simple_nn[y_pred_simple_nn >= 0.5 ] = 1\n",
    "y_pred_simple_nn[y_pred_simple_nn < 0.5 ] = 0\n",
    "\n",
    "y_pred_cnn = cnn.predict(X_test_tok)\n",
    "y_pred_cnn[y_pred_cnn >= 0.5 ] = 1\n",
    "y_pred_cnn[y_pred_cnn < 0.5 ] = 0\n",
    "\n",
    "y_pred_multi_cnn = multi_cnn.predict(X_test_tok)\n",
    "y_pred_multi_cnn[y_pred_multi_cnn >= 0.5 ] = 1\n",
    "y_pred_multi_cnn[y_pred_multi_cnn < 0.5 ] = 0"
   ]
  },
  {
   "cell_type": "code",
   "execution_count": 31,
   "id": "24eecd44",
   "metadata": {},
   "outputs": [],
   "source": [
    "y_pred = np.array(y_pred_simple_nn + y_pred_cnn + y_pred_multi_cnn, dtype = 'int64')\n",
    "final_pred = y_pred.copy()\n",
    "final_pred[y_pred >= 2] = 1\n",
    "final_pred[y_pred < 2] = -1"
   ]
  },
  {
   "cell_type": "code",
   "execution_count": null,
   "id": "6fdf174a",
   "metadata": {},
   "outputs": [],
   "source": []
  },
  {
   "cell_type": "code",
   "execution_count": 32,
   "id": "1611e246",
   "metadata": {},
   "outputs": [],
   "source": [
    "ids_test = np.arange(1, len(y_pred)+1)\n",
    "def create_csv_submission(ids, y_pred, name):\n",
    "    \"\"\"\n",
    "    Creates an output file in .csv format for submission to Kaggle or AIcrowd\n",
    "    Arguments: ids (event ids associated with each prediction)\n",
    "               y_pred (predicted class labels)\n",
    "               name (string name of .csv output file to be created)\n",
    "    \"\"\"\n",
    "    with open(name, 'w',newline='') as csvfile:\n",
    "        fieldnames = ['Id', 'Prediction']\n",
    "        writer = csv.DictWriter(csvfile, delimiter=\",\", fieldnames=fieldnames)\n",
    "        writer.writeheader()\n",
    "        for r1, r2 in zip(ids, y_pred):\n",
    "            writer.writerow({'Id':int(r1),'Prediction':int(r2)})\n",
    "            \n",
    "OUTPUT_PATH = 'Voting.csv' # TODO: fill in desired name of output file for submission\n",
    "create_csv_submission(ids_test, final_pred, OUTPUT_PATH)"
   ]
  },
  {
   "cell_type": "code",
   "execution_count": null,
   "id": "375c4581",
   "metadata": {},
   "outputs": [],
   "source": []
  }
 ],
 "metadata": {
  "kernelspec": {
   "display_name": "Python 3 (ipykernel)",
   "language": "python",
   "name": "python3"
  },
  "language_info": {
   "codemirror_mode": {
    "name": "ipython",
    "version": 3
   },
   "file_extension": ".py",
   "mimetype": "text/x-python",
   "name": "python",
   "nbconvert_exporter": "python",
   "pygments_lexer": "ipython3",
   "version": "3.9.7"
  }
 },
 "nbformat": 4,
 "nbformat_minor": 5
}
