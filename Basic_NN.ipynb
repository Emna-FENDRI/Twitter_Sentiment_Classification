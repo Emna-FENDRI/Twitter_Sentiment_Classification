{
  "nbformat": 4,
  "nbformat_minor": 0,
  "metadata": {
    "colab": {
      "name": "Basic NN",
      "provenance": [],
      "collapsed_sections": []
    },
    "kernelspec": {
      "name": "python3",
      "display_name": "Python 3"
    },
    "language_info": {
      "name": "python"
    },
    "accelerator": "GPU"
  },
  "cells": [
    {
      "cell_type": "code",
      "execution_count": 1,
      "metadata": {
        "id": "vm3uGwX0L2Xy"
      },
      "outputs": [],
      "source": [
        "import numpy as np\n",
        "import torch.nn as nn\n",
        "import torch.nn.functional as F\n",
        "import torch.optim as optim\n",
        "import torch\n",
        "from tqdm import tqdm"
      ]
    },
    {
      "cell_type": "code",
      "source": [
        "from google.colab import drive\n",
        "drive.mount('/content/drive')"
      ],
      "metadata": {
        "id": "TXSjirV3MKmg",
        "colab": {
          "base_uri": "https://localhost:8080/"
        },
        "outputId": "bf490f5e-bc86-4809-e88d-6a4def47536a"
      },
      "execution_count": 2,
      "outputs": [
        {
          "output_type": "stream",
          "name": "stdout",
          "text": [
            "Mounted at /content/drive\n"
          ]
        }
      ]
    },
    {
      "cell_type": "code",
      "source": [
        "if torch.cuda.is_available():\n",
        "  device = torch.device(\"cuda:0\")\n",
        "  print(\"running on the GPU\")\n",
        "else:\n",
        "  device = torch.device(\"cpu\")\n",
        "  print(\"running on the CPU\")"
      ],
      "metadata": {
        "colab": {
          "base_uri": "https://localhost:8080/"
        },
        "id": "euM3i5E29dAW",
        "outputId": "20110b7f-e30f-4f3a-bff0-424b8388eabd"
      },
      "execution_count": 3,
      "outputs": [
        {
          "output_type": "stream",
          "name": "stdout",
          "text": [
            "running on the GPU\n"
          ]
        }
      ]
    },
    {
      "cell_type": "code",
      "source": [
        "training_data = np.load(\"/content/drive/My Drive/training_data.npy\", allow_pickle=True)"
      ],
      "metadata": {
        "id": "vM0Me4wBnCgl"
      },
      "execution_count": 4,
      "outputs": []
    },
    {
      "cell_type": "code",
      "source": [
        "class Net(nn.Module):\n",
        "    def __init__(self):\n",
        "        super().__init__()\n",
        "        self.fc1 = nn.Linear(300, 256)\n",
        "        self.fc2 = nn.Linear(256, 256)\n",
        "        self.fc3 = nn.Linear(256, 256)\n",
        "        self.fc4 = nn.Linear(256, 2)\n",
        "        \n",
        "    def forward(self, x):\n",
        "        x = F.relu(self.fc1(x))\n",
        "        x = F.relu(self.fc2(x))\n",
        "        x = F.relu(self.fc3(x))\n",
        "        x = self.fc4(x)\n",
        "        return F.softmax(x, dim=1)"
      ],
      "metadata": {
        "id": "GcIe_x8Lngwr"
      },
      "execution_count": 6,
      "outputs": []
    },
    {
      "cell_type": "code",
      "source": [
        "tr_size = round(len(training_data)*0.8)\n",
        "tr_set = training_data[:tr_size]\n",
        "te_set = training_data[tr_size:]"
      ],
      "metadata": {
        "id": "S3C8f7lRod6p"
      },
      "execution_count": 7,
      "outputs": []
    },
    {
      "cell_type": "code",
      "source": [
        "net = Net().to(device)\n",
        "print(net)"
      ],
      "metadata": {
        "colab": {
          "base_uri": "https://localhost:8080/"
        },
        "id": "3qMXjN0Co6rS",
        "outputId": "00e8f857-2f56-462b-ca58-91d1ba182d40"
      },
      "execution_count": 8,
      "outputs": [
        {
          "output_type": "stream",
          "name": "stdout",
          "text": [
            "Net(\n",
            "  (fc1): Linear(in_features=300, out_features=256, bias=True)\n",
            "  (fc2): Linear(in_features=256, out_features=256, bias=True)\n",
            "  (fc3): Linear(in_features=256, out_features=256, bias=True)\n",
            "  (fc4): Linear(in_features=256, out_features=2, bias=True)\n",
            ")\n"
          ]
        }
      ]
    },
    {
      "cell_type": "code",
      "source": [
        "BATCH_SIZE = 100\n",
        "def train(net):\n",
        "  EPOCHS = 30*8\n",
        "  loss_function = nn.MSELoss()\n",
        "  optimizer = optim.Adam(net.parameters(), lr=0.001)\n",
        "  loss = 1000000000\n",
        "  test_accuracy_at_each_epoch = []\n",
        "  for epoch in range(EPOCHS):\n",
        "      for i in tqdm(range(0, len(tr_set), BATCH_SIZE)):\n",
        "          batch_X = [x for x, y_ in tr_set[i:i+BATCH_SIZE]]\n",
        "          batch_y = [y_ for x, y_ in tr_set[i:i+BATCH_SIZE]]\n",
        "\n",
        "          tensor_batch_X = torch.tensor(batch_X).float()\n",
        "          tensor_batch_y = torch.tensor(batch_y).float()\n",
        "\n",
        "          tensor_batch_X, tensor_batch_y = tensor_batch_X.to(device), tensor_batch_y.to(device)\n",
        "\n",
        "          net.zero_grad()\n",
        "\n",
        "          output = net(tensor_batch_X.view(-1, 300))\n",
        "          loss = loss_function(output, tensor_batch_y)\n",
        "          loss.backward()\n",
        "          optimizer.step()\n",
        "      \n",
        "      accuracy = test(net)\n",
        "      test_accuracy_at_each_epoch.append(accuracy)\n",
        "      print(f\"\\nLoss: {loss}\")\n",
        "      print(f\"\\nAccuracy: {accuracy}\")\n",
        "  return test_accuracy_at_each_epoch"
      ],
      "metadata": {
        "id": "3JAlG4P_o3lR"
      },
      "execution_count": 26,
      "outputs": []
    },
    {
      "cell_type": "code",
      "source": [
        "test_accuracy_epoch = train(net)"
      ],
      "metadata": {
        "colab": {
          "base_uri": "https://localhost:8080/"
        },
        "id": "Hzo4TRdS5F79",
        "outputId": "356cacdc-55d8-41f1-ed70-44ce846aca87"
      },
      "execution_count": null,
      "outputs": [
        {
          "output_type": "stream",
          "name": "stderr",
          "text": [
            "100%|██████████| 18164/18164 [02:03<00:00, 146.89it/s]\n",
            "100%|██████████| 4541/4541 [00:48<00:00, 93.98it/s]\n"
          ]
        },
        {
          "output_type": "stream",
          "name": "stdout",
          "text": [
            "\n",
            "Loss: 0.15786199271678925\n"
          ]
        },
        {
          "output_type": "stream",
          "name": "stderr",
          "text": [
            "100%|██████████| 18164/18164 [02:00<00:00, 151.17it/s]\n",
            "100%|██████████| 4541/4541 [00:48<00:00, 94.56it/s]\n"
          ]
        },
        {
          "output_type": "stream",
          "name": "stdout",
          "text": [
            "\n",
            "Loss: 0.16346590220928192\n"
          ]
        },
        {
          "output_type": "stream",
          "name": "stderr",
          "text": [
            "100%|██████████| 18164/18164 [01:59<00:00, 151.45it/s]\n",
            "100%|██████████| 4541/4541 [00:48<00:00, 93.89it/s]\n"
          ]
        },
        {
          "output_type": "stream",
          "name": "stdout",
          "text": [
            "\n",
            "Loss: 0.16107496619224548\n"
          ]
        },
        {
          "output_type": "stream",
          "name": "stderr",
          "text": [
            "100%|██████████| 18164/18164 [02:11<00:00, 138.63it/s]\n",
            "100%|██████████| 4541/4541 [00:51<00:00, 88.35it/s]\n"
          ]
        },
        {
          "output_type": "stream",
          "name": "stdout",
          "text": [
            "\n",
            "Loss: 0.1566895693540573\n"
          ]
        },
        {
          "output_type": "stream",
          "name": "stderr",
          "text": [
            "100%|██████████| 18164/18164 [02:01<00:00, 149.18it/s]\n",
            "100%|██████████| 4541/4541 [00:48<00:00, 94.44it/s]\n"
          ]
        },
        {
          "output_type": "stream",
          "name": "stdout",
          "text": [
            "\n",
            "Loss: 0.1550334393978119\n"
          ]
        },
        {
          "output_type": "stream",
          "name": "stderr",
          "text": [
            "100%|██████████| 18164/18164 [02:00<00:00, 151.17it/s]\n",
            "100%|██████████| 4541/4541 [00:47<00:00, 94.62it/s]\n"
          ]
        },
        {
          "output_type": "stream",
          "name": "stdout",
          "text": [
            "\n",
            "Loss: 0.15701739490032196\n"
          ]
        },
        {
          "output_type": "stream",
          "name": "stderr",
          "text": [
            "100%|██████████| 18164/18164 [02:00<00:00, 150.34it/s]\n",
            "100%|██████████| 4541/4541 [00:48<00:00, 93.95it/s]\n"
          ]
        },
        {
          "output_type": "stream",
          "name": "stdout",
          "text": [
            "\n",
            "Loss: 0.1604745090007782\n"
          ]
        },
        {
          "output_type": "stream",
          "name": "stderr",
          "text": [
            "100%|██████████| 18164/18164 [02:02<00:00, 148.83it/s]\n",
            "100%|██████████| 4541/4541 [00:48<00:00, 92.78it/s]\n"
          ]
        },
        {
          "output_type": "stream",
          "name": "stdout",
          "text": [
            "\n",
            "Loss: 0.15262307226657867\n"
          ]
        },
        {
          "output_type": "stream",
          "name": "stderr",
          "text": [
            "100%|██████████| 18164/18164 [02:01<00:00, 148.94it/s]\n",
            "100%|██████████| 4541/4541 [00:48<00:00, 93.46it/s]\n"
          ]
        },
        {
          "output_type": "stream",
          "name": "stdout",
          "text": [
            "\n",
            "Loss: 0.15765908360481262\n"
          ]
        },
        {
          "output_type": "stream",
          "name": "stderr",
          "text": [
            "100%|██████████| 18164/18164 [02:00<00:00, 150.78it/s]\n",
            "100%|██████████| 4541/4541 [00:48<00:00, 94.15it/s]\n"
          ]
        },
        {
          "output_type": "stream",
          "name": "stdout",
          "text": [
            "\n",
            "Loss: 0.15651848912239075\n"
          ]
        },
        {
          "output_type": "stream",
          "name": "stderr",
          "text": [
            "100%|██████████| 18164/18164 [02:01<00:00, 149.38it/s]\n",
            "100%|██████████| 4541/4541 [00:48<00:00, 93.81it/s]\n"
          ]
        },
        {
          "output_type": "stream",
          "name": "stdout",
          "text": [
            "\n",
            "Loss: 0.1553516983985901\n"
          ]
        },
        {
          "output_type": "stream",
          "name": "stderr",
          "text": [
            "100%|██████████| 18164/18164 [02:02<00:00, 148.43it/s]\n",
            "100%|██████████| 4541/4541 [00:49<00:00, 92.60it/s]\n"
          ]
        },
        {
          "output_type": "stream",
          "name": "stdout",
          "text": [
            "\n",
            "Loss: 0.15505467355251312\n"
          ]
        },
        {
          "output_type": "stream",
          "name": "stderr",
          "text": [
            "100%|██████████| 18164/18164 [02:01<00:00, 149.63it/s]\n",
            "100%|██████████| 4541/4541 [00:48<00:00, 92.79it/s]\n"
          ]
        },
        {
          "output_type": "stream",
          "name": "stdout",
          "text": [
            "\n",
            "Loss: 0.15511454641819\n"
          ]
        },
        {
          "output_type": "stream",
          "name": "stderr",
          "text": [
            "100%|██████████| 18164/18164 [02:01<00:00, 149.06it/s]\n",
            "100%|██████████| 4541/4541 [00:49<00:00, 92.56it/s]\n"
          ]
        },
        {
          "output_type": "stream",
          "name": "stdout",
          "text": [
            "\n",
            "Loss: 0.1552474945783615\n"
          ]
        },
        {
          "output_type": "stream",
          "name": "stderr",
          "text": [
            "100%|██████████| 18164/18164 [02:02<00:00, 148.12it/s]\n",
            "100%|██████████| 4541/4541 [00:48<00:00, 94.15it/s]\n"
          ]
        },
        {
          "output_type": "stream",
          "name": "stdout",
          "text": [
            "\n",
            "Loss: 0.14948907494544983\n"
          ]
        },
        {
          "output_type": "stream",
          "name": "stderr",
          "text": [
            "100%|██████████| 18164/18164 [02:01<00:00, 149.76it/s]\n",
            "100%|██████████| 4541/4541 [00:48<00:00, 93.45it/s]\n"
          ]
        },
        {
          "output_type": "stream",
          "name": "stdout",
          "text": [
            "\n",
            "Loss: 0.14549556374549866\n"
          ]
        },
        {
          "output_type": "stream",
          "name": "stderr",
          "text": [
            "100%|██████████| 18164/18164 [02:01<00:00, 149.92it/s]\n",
            "100%|██████████| 4541/4541 [00:48<00:00, 94.11it/s]\n"
          ]
        },
        {
          "output_type": "stream",
          "name": "stdout",
          "text": [
            "\n",
            "Loss: 0.1460811197757721\n"
          ]
        },
        {
          "output_type": "stream",
          "name": "stderr",
          "text": [
            "100%|██████████| 18164/18164 [02:00<00:00, 150.17it/s]\n",
            "100%|██████████| 4541/4541 [00:48<00:00, 93.93it/s]\n"
          ]
        },
        {
          "output_type": "stream",
          "name": "stdout",
          "text": [
            "\n",
            "Loss: 0.1449686586856842\n"
          ]
        },
        {
          "output_type": "stream",
          "name": "stderr",
          "text": [
            "100%|██████████| 18164/18164 [02:01<00:00, 149.36it/s]\n",
            "100%|██████████| 4541/4541 [00:48<00:00, 93.75it/s]\n"
          ]
        },
        {
          "output_type": "stream",
          "name": "stdout",
          "text": [
            "\n",
            "Loss: 0.14404012262821198\n"
          ]
        },
        {
          "output_type": "stream",
          "name": "stderr",
          "text": [
            "100%|██████████| 18164/18164 [02:01<00:00, 149.64it/s]\n",
            "100%|██████████| 4541/4541 [00:48<00:00, 93.81it/s]\n"
          ]
        },
        {
          "output_type": "stream",
          "name": "stdout",
          "text": [
            "\n",
            "Loss: 0.14466135203838348\n"
          ]
        },
        {
          "output_type": "stream",
          "name": "stderr",
          "text": [
            "100%|██████████| 18164/18164 [02:01<00:00, 149.25it/s]\n",
            "100%|██████████| 4541/4541 [00:48<00:00, 93.13it/s]\n"
          ]
        },
        {
          "output_type": "stream",
          "name": "stdout",
          "text": [
            "\n",
            "Loss: 0.14692100882530212\n"
          ]
        },
        {
          "output_type": "stream",
          "name": "stderr",
          "text": [
            "100%|██████████| 18164/18164 [02:02<00:00, 147.71it/s]\n",
            "100%|██████████| 4541/4541 [00:48<00:00, 92.84it/s]\n"
          ]
        },
        {
          "output_type": "stream",
          "name": "stdout",
          "text": [
            "\n",
            "Loss: 0.1433178037405014\n"
          ]
        },
        {
          "output_type": "stream",
          "name": "stderr",
          "text": [
            "100%|██████████| 18164/18164 [02:02<00:00, 148.85it/s]\n",
            "100%|██████████| 4541/4541 [00:48<00:00, 94.57it/s]\n"
          ]
        },
        {
          "output_type": "stream",
          "name": "stdout",
          "text": [
            "\n",
            "Loss: 0.1426757574081421\n"
          ]
        },
        {
          "output_type": "stream",
          "name": "stderr",
          "text": [
            "100%|██████████| 18164/18164 [01:59<00:00, 151.84it/s]\n",
            "100%|██████████| 4541/4541 [00:47<00:00, 94.97it/s]\n"
          ]
        },
        {
          "output_type": "stream",
          "name": "stdout",
          "text": [
            "\n",
            "Loss: 0.1427626758813858\n"
          ]
        },
        {
          "output_type": "stream",
          "name": "stderr",
          "text": [
            "100%|██████████| 18164/18164 [02:00<00:00, 151.13it/s]\n",
            "100%|██████████| 4541/4541 [00:47<00:00, 95.00it/s]\n"
          ]
        },
        {
          "output_type": "stream",
          "name": "stdout",
          "text": [
            "\n",
            "Loss: 0.14095087349414825\n"
          ]
        },
        {
          "output_type": "stream",
          "name": "stderr",
          "text": [
            "100%|██████████| 18164/18164 [02:00<00:00, 150.31it/s]\n",
            "100%|██████████| 4541/4541 [00:48<00:00, 93.66it/s]\n"
          ]
        },
        {
          "output_type": "stream",
          "name": "stdout",
          "text": [
            "\n",
            "Loss: 0.13985389471054077\n"
          ]
        },
        {
          "output_type": "stream",
          "name": "stderr",
          "text": [
            "100%|██████████| 18164/18164 [02:01<00:00, 149.09it/s]\n",
            "100%|██████████| 4541/4541 [00:48<00:00, 93.14it/s]\n"
          ]
        },
        {
          "output_type": "stream",
          "name": "stdout",
          "text": [
            "\n",
            "Loss: 0.138587087392807\n"
          ]
        },
        {
          "output_type": "stream",
          "name": "stderr",
          "text": [
            "100%|██████████| 18164/18164 [01:59<00:00, 151.42it/s]\n",
            "100%|██████████| 4541/4541 [00:47<00:00, 94.95it/s]\n"
          ]
        },
        {
          "output_type": "stream",
          "name": "stdout",
          "text": [
            "\n",
            "Loss: 0.1362352967262268\n"
          ]
        },
        {
          "output_type": "stream",
          "name": "stderr",
          "text": [
            "100%|██████████| 18164/18164 [01:59<00:00, 152.14it/s]\n",
            "100%|██████████| 4541/4541 [00:47<00:00, 96.11it/s]\n"
          ]
        },
        {
          "output_type": "stream",
          "name": "stdout",
          "text": [
            "\n",
            "Loss: 0.13705763220787048\n"
          ]
        },
        {
          "output_type": "stream",
          "name": "stderr",
          "text": [
            "100%|██████████| 18164/18164 [02:00<00:00, 150.63it/s]\n",
            "100%|██████████| 4541/4541 [00:47<00:00, 95.26it/s]\n"
          ]
        },
        {
          "output_type": "stream",
          "name": "stdout",
          "text": [
            "\n",
            "Loss: 0.13456198573112488\n"
          ]
        },
        {
          "output_type": "stream",
          "name": "stderr",
          "text": [
            "100%|██████████| 18164/18164 [02:00<00:00, 150.35it/s]\n",
            "100%|██████████| 4541/4541 [00:48<00:00, 93.63it/s]\n"
          ]
        },
        {
          "output_type": "stream",
          "name": "stdout",
          "text": [
            "\n",
            "Loss: 0.13842658698558807\n"
          ]
        },
        {
          "output_type": "stream",
          "name": "stderr",
          "text": [
            "100%|██████████| 18164/18164 [02:00<00:00, 150.19it/s]\n",
            "100%|██████████| 4541/4541 [00:48<00:00, 94.47it/s]\n"
          ]
        },
        {
          "output_type": "stream",
          "name": "stdout",
          "text": [
            "\n",
            "Loss: 0.13511739671230316\n"
          ]
        },
        {
          "output_type": "stream",
          "name": "stderr",
          "text": [
            "100%|██████████| 18164/18164 [02:00<00:00, 150.27it/s]\n",
            "100%|██████████| 4541/4541 [00:48<00:00, 94.32it/s]\n"
          ]
        },
        {
          "output_type": "stream",
          "name": "stdout",
          "text": [
            "\n",
            "Loss: 0.13420532643795013\n"
          ]
        },
        {
          "output_type": "stream",
          "name": "stderr",
          "text": [
            "100%|██████████| 18164/18164 [02:00<00:00, 150.57it/s]\n",
            "100%|██████████| 4541/4541 [00:48<00:00, 94.40it/s]\n"
          ]
        },
        {
          "output_type": "stream",
          "name": "stdout",
          "text": [
            "\n",
            "Loss: 0.13494913280010223\n"
          ]
        },
        {
          "output_type": "stream",
          "name": "stderr",
          "text": [
            "100%|██████████| 18164/18164 [01:59<00:00, 151.58it/s]\n",
            "100%|██████████| 4541/4541 [00:48<00:00, 94.60it/s]\n"
          ]
        },
        {
          "output_type": "stream",
          "name": "stdout",
          "text": [
            "\n",
            "Loss: 0.1341399848461151\n"
          ]
        },
        {
          "output_type": "stream",
          "name": "stderr",
          "text": [
            "100%|██████████| 18164/18164 [01:58<00:00, 153.06it/s]\n",
            "100%|██████████| 4541/4541 [00:47<00:00, 95.43it/s]\n"
          ]
        },
        {
          "output_type": "stream",
          "name": "stdout",
          "text": [
            "\n",
            "Loss: 0.1290842741727829\n"
          ]
        },
        {
          "output_type": "stream",
          "name": "stderr",
          "text": [
            "100%|██████████| 18164/18164 [01:59<00:00, 151.65it/s]\n",
            "100%|██████████| 4541/4541 [00:48<00:00, 93.48it/s]\n"
          ]
        },
        {
          "output_type": "stream",
          "name": "stdout",
          "text": [
            "\n",
            "Loss: 0.1369473934173584\n"
          ]
        },
        {
          "output_type": "stream",
          "name": "stderr",
          "text": [
            "100%|██████████| 18164/18164 [02:01<00:00, 149.65it/s]\n",
            "100%|██████████| 4541/4541 [00:48<00:00, 94.52it/s]\n"
          ]
        },
        {
          "output_type": "stream",
          "name": "stdout",
          "text": [
            "\n",
            "Loss: 0.1357455551624298\n"
          ]
        },
        {
          "output_type": "stream",
          "name": "stderr",
          "text": [
            "100%|██████████| 18164/18164 [01:58<00:00, 152.66it/s]\n",
            "100%|██████████| 4541/4541 [00:47<00:00, 95.12it/s]\n"
          ]
        },
        {
          "output_type": "stream",
          "name": "stdout",
          "text": [
            "\n",
            "Loss: 0.13116401433944702\n"
          ]
        },
        {
          "output_type": "stream",
          "name": "stderr",
          "text": [
            "100%|██████████| 18164/18164 [02:01<00:00, 149.07it/s]\n",
            "100%|██████████| 4541/4541 [00:48<00:00, 94.34it/s]\n"
          ]
        },
        {
          "output_type": "stream",
          "name": "stdout",
          "text": [
            "\n",
            "Loss: 0.12969447672367096\n"
          ]
        },
        {
          "output_type": "stream",
          "name": "stderr",
          "text": [
            "100%|██████████| 18164/18164 [02:01<00:00, 149.55it/s]\n",
            "100%|██████████| 4541/4541 [00:48<00:00, 93.12it/s]\n"
          ]
        },
        {
          "output_type": "stream",
          "name": "stdout",
          "text": [
            "\n",
            "Loss: 0.13907967507839203\n"
          ]
        },
        {
          "output_type": "stream",
          "name": "stderr",
          "text": [
            "100%|██████████| 18164/18164 [02:01<00:00, 149.87it/s]\n",
            "100%|██████████| 4541/4541 [00:48<00:00, 94.14it/s]\n"
          ]
        },
        {
          "output_type": "stream",
          "name": "stdout",
          "text": [
            "\n",
            "Loss: 0.1359969675540924\n"
          ]
        },
        {
          "output_type": "stream",
          "name": "stderr",
          "text": [
            "100%|██████████| 18164/18164 [02:02<00:00, 148.05it/s]\n",
            "100%|██████████| 4541/4541 [00:47<00:00, 94.65it/s]\n"
          ]
        },
        {
          "output_type": "stream",
          "name": "stdout",
          "text": [
            "\n",
            "Loss: 0.13932174444198608\n"
          ]
        },
        {
          "output_type": "stream",
          "name": "stderr",
          "text": [
            "100%|██████████| 18164/18164 [01:59<00:00, 151.84it/s]\n",
            "100%|██████████| 4541/4541 [00:47<00:00, 94.78it/s]\n"
          ]
        },
        {
          "output_type": "stream",
          "name": "stdout",
          "text": [
            "\n",
            "Loss: 0.13560332357883453\n"
          ]
        },
        {
          "output_type": "stream",
          "name": "stderr",
          "text": [
            "100%|██████████| 18164/18164 [01:59<00:00, 151.97it/s]\n",
            "100%|██████████| 4541/4541 [00:47<00:00, 95.67it/s]\n"
          ]
        },
        {
          "output_type": "stream",
          "name": "stdout",
          "text": [
            "\n",
            "Loss: 0.1320076882839203\n"
          ]
        },
        {
          "output_type": "stream",
          "name": "stderr",
          "text": [
            "100%|██████████| 18164/18164 [01:59<00:00, 152.18it/s]\n",
            "100%|██████████| 4541/4541 [00:47<00:00, 94.79it/s]\n"
          ]
        },
        {
          "output_type": "stream",
          "name": "stdout",
          "text": [
            "\n",
            "Loss: 0.13440537452697754\n"
          ]
        },
        {
          "output_type": "stream",
          "name": "stderr",
          "text": [
            "100%|██████████| 18164/18164 [01:59<00:00, 151.85it/s]\n",
            "100%|██████████| 4541/4541 [00:47<00:00, 94.62it/s]\n"
          ]
        },
        {
          "output_type": "stream",
          "name": "stdout",
          "text": [
            "\n",
            "Loss: 0.13477829098701477\n"
          ]
        },
        {
          "output_type": "stream",
          "name": "stderr",
          "text": [
            "100%|██████████| 18164/18164 [01:59<00:00, 152.12it/s]\n",
            "100%|██████████| 4541/4541 [00:47<00:00, 95.34it/s]\n"
          ]
        },
        {
          "output_type": "stream",
          "name": "stdout",
          "text": [
            "\n",
            "Loss: 0.1328144669532776\n"
          ]
        },
        {
          "output_type": "stream",
          "name": "stderr",
          "text": [
            "100%|██████████| 18164/18164 [01:59<00:00, 152.18it/s]\n",
            "100%|██████████| 4541/4541 [00:47<00:00, 95.17it/s]\n"
          ]
        },
        {
          "output_type": "stream",
          "name": "stdout",
          "text": [
            "\n",
            "Loss: 0.13253876566886902\n"
          ]
        },
        {
          "output_type": "stream",
          "name": "stderr",
          "text": [
            "100%|██████████| 18164/18164 [01:59<00:00, 152.19it/s]\n",
            "100%|██████████| 4541/4541 [00:47<00:00, 95.24it/s]\n"
          ]
        },
        {
          "output_type": "stream",
          "name": "stdout",
          "text": [
            "\n",
            "Loss: 0.13032759726047516\n"
          ]
        },
        {
          "output_type": "stream",
          "name": "stderr",
          "text": [
            "100%|██████████| 18164/18164 [02:01<00:00, 149.19it/s]\n",
            " 48%|████▊     | 2166/4541 [00:22<00:25, 92.38it/s]"
          ]
        }
      ]
    },
    {
      "cell_type": "code",
      "source": [
        "print(test_accuracy_epoch)"
      ],
      "metadata": {
        "id": "3nM_CIrlZ80F"
      },
      "execution_count": null,
      "outputs": []
    },
    {
      "cell_type": "code",
      "source": [
        "def test(net):\n",
        "    correct = 0\n",
        "    total = 0\n",
        "    with torch.no_grad():\n",
        "        for i in tqdm(range(0, len(te_set), BATCH_SIZE)):\n",
        "            batch_X = [x for x, y_ in te_set[i:i+BATCH_SIZE]]\n",
        "            batch_y = [y_ for x, y_ in te_set[i:i+BATCH_SIZE]]\n",
        "\n",
        "            tensor_batch_X = torch.tensor(batch_X).float().view(-1, 300).to(device)\n",
        "            tensor_batch_y = torch.tensor(batch_y).float().to(device)\n",
        "            batch_out = net(tensor_batch_X)\n",
        "\n",
        "            out_maxes = [torch.argmax(val) for val in batch_out]\n",
        "            target_maxes = [torch.argmax(val) for val in tensor_batch_y]\n",
        "            \n",
        "            for i, j in zip(out_maxes, target_maxes):\n",
        "              if i == j:\n",
        "                correct +=1\n",
        "              total += 1\n",
        "    return round(correct/total, 3)"
      ],
      "metadata": {
        "id": "rEil8vdtzKAu"
      },
      "execution_count": 12,
      "outputs": []
    },
    {
      "cell_type": "code",
      "source": [
        "import matplotlib.pyplot as plt"
      ],
      "metadata": {
        "id": "Gq8yhUvME-Qx"
      },
      "execution_count": 18,
      "outputs": []
    },
    {
      "cell_type": "code",
      "source": [
        "plt.plot(list(range(1,30*8+1)), test_accuracy_epoch)\n",
        "plt.show()"
      ],
      "metadata": {
        "id": "0D8Avkufaltk"
      },
      "execution_count": null,
      "outputs": []
    },
    {
      "cell_type": "code",
      "source": [
        "torch.save(net.state_dict(), \"/content/drive/My Drive/nn_dict\")\n",
        "torch.save(net, \"/content/drive/My Drive/nn_object\")"
      ],
      "metadata": {
        "id": "GOLmQcNwd301"
      },
      "execution_count": null,
      "outputs": []
    },
    {
      "cell_type": "markdown",
      "source": [
        ""
      ],
      "metadata": {
        "id": "-e3AARfFZxIz"
      }
    }
  ]
}